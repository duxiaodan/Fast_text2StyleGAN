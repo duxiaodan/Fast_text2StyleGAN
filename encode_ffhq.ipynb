{
 "cells": [
  {
   "cell_type": "code",
   "execution_count": null,
   "metadata": {},
   "outputs": [],
   "source": [
    "import os\n",
    "import clip\n",
    "import torch\n",
    "import torchvision\n",
    "import numpy as np\n",
    "import h5py\n",
    "from PIL import Image"
   ]
  },
  {
   "cell_type": "code",
   "execution_count": null,
   "metadata": {},
   "outputs": [],
   "source": [
    "device = torch.device('cuda')\n",
    "model, preprocess = clip.load('ViT-B/16', device, jit=False)\n",
    "model.cuda().eval()\n",
    "input_resolution = model.visual.input_resolution\n",
    "context_length = model.context_length\n",
    "vocab_size = model.vocab_size\n",
    "\n",
    "print(\"Model parameters:\", f\"{np.sum([int(np.prod(p.shape)) for p in model.parameters()]):,}\")\n",
    "print(\"Input resolution:\", input_resolution)\n",
    "print(\"Context length:\", context_length)\n",
    "print(\"Vocab size:\", vocab_size)\n",
    "print(\"Preprocess:\",preprocess)"
   ]
  },
  {
   "cell_type": "code",
   "execution_count": null,
   "metadata": {},
   "outputs": [],
   "source": [
    "def write_hdf5(outfile, arr_dict):\n",
    "    \"\"\"\n",
    "    Write arrays to hdf5 file. Create outfile if not exists. \n",
    "    torch.Tensor will automatically reformat to numpy.array.\n",
    "    Args:\n",
    "      outfile: str, name of hdf5 file\n",
    "      arr_dict: dict, group of data-to-write\n",
    "    \"\"\"\n",
    "    with h5py.File(outfile, 'w') as f:\n",
    "        for key in arr_dict.keys():\n",
    "            f.create_dataset(str(key), data=arr_dict[key])"
   ]
  },
  {
   "cell_type": "code",
   "execution_count": null,
   "metadata": {},
   "outputs": [],
   "source": [
    "FFHQ_dir = os.path.join('path/to/FFHQ/images1024x1024')\n",
    "print(FFHQ_dir)\n",
    "FFHQ_features = []\n",
    "for j in range(1000):\n",
    "    if j%100==0:\n",
    "        print(j*70,'/',70000)\n",
    "    images_list=[]\n",
    "    for k in range(70):\n",
    "        FFHQ_img_dir = os.path.join(FFHQ_dir,str(j*70+k).zfill(5)+'.png')\n",
    "        image = Image.open(FFHQ_img_dir).convert(\"RGB\")\n",
    "        images_list.append(preprocess(image))\n",
    "    images_tensor = torch.tensor(np.stack(images_list)).cuda()\n",
    "    with torch.no_grad():\n",
    "        FFHQ_features.append(model.encode_image(images_tensor).float())\n",
    "FFHQ_features_cat = torch.cat(FFHQ_features,dim=0).cpu()\n",
    "print(FFHQ_features_cat.shape)\n",
    "FFHQ_dic = {'image':FFHQ_features_cat}\n",
    "write_hdf5('FFHQ'+'.hdf5',FFHQ_dic)"
   ]
  }
 ],
 "metadata": {
  "language_info": {
   "name": "python"
  },
  "orig_nbformat": 4
 },
 "nbformat": 4,
 "nbformat_minor": 2
}
